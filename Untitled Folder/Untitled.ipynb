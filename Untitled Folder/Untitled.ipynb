{
 "cells": [
  {
   "cell_type": "code",
   "execution_count": 1,
   "metadata": {},
   "outputs": [],
   "source": [
    "var R = require('../node_modules/ramda');\n",
    "var fs = require('fs');\n",
    "var request = require('../node_modules/request');\n",
    "var moment = require('../node_modules/moment');\n",
    "var request = require('../node_modules/request');"
   ]
  },
  {
   "cell_type": "code",
   "execution_count": 4,
   "metadata": {},
   "outputs": [
    {
     "data": {
      "text/plain": [
       "{\"utils\":{}}"
      ]
     },
     "execution_count": 4,
     "metadata": {},
     "output_type": "execute_result"
    }
   ],
   "source": [
    "delete agrum_lib\n",
    "agrum_lib = require('../index')"
   ]
  },
  {
   "cell_type": "code",
   "execution_count": 5,
   "metadata": {},
   "outputs": [
    {
     "name": "stdout",
     "output_type": "stream",
     "text": [
      "36\n"
     ]
    }
   ],
   "source": [
    "HOST = 'http://localhost:1338'\n",
    "HOST = 'http://agrum.herokuapp.com'\n",
    "\n",
    "date = '2018-04-13'\n",
    "device = 'PS-C01'\n",
    "\n",
    "date_init = moment(date).startOf('day').add(6,'hour').toISOString()\n",
    "date_finish = moment(date).endOf('day').add(6,'hour').toISOString()\n",
    "\n",
    "query = '/api/v1.0/events?populate=&Authorization=4b4e7ecf-a320-4fa1-ad14-40bfdbc9352a&limit=100&where={\"type\":\"operator\",\"id_device\":\"'+device+'\",\"timestamp\":{\">=\":\"'+date_init+'\",\"<=\":\"'+date_finish+'\"}}&sort=timestamp ASC'\n",
    "\n",
    "url = HOST+query\n",
    "data_events = []\n",
    "agrum_lib.get_data(url,{},[],(data)=>{\n",
    "    console.log(data.length)\n",
    "    events = data\n",
    "})"
   ]
  },
  {
   "cell_type": "code",
   "execution_count": null,
   "metadata": {},
   "outputs": [],
   "source": []
  }
 ],
 "metadata": {
  "kernelspec": {
   "display_name": "NodeJS",
   "language": "javascript",
   "name": "nodejs"
  },
  "language_info": {
   "codemirror_mode": "javascript",
   "file_extension": ".js",
   "mimetype": "text/javascript",
   "name": "nodejs",
   "pygments_lexer": "javascript",
   "version": "0.10"
  }
 },
 "nbformat": 4,
 "nbformat_minor": 2
}
