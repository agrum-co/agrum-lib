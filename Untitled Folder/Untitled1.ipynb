{
 "cells": [
  {
   "cell_type": "code",
   "execution_count": 3,
   "metadata": {},
   "outputs": [],
   "source": [
    "var R = require('../node_modules/ramda');\n",
    "var fs = require('fs');\n",
    "var request = require('../node_modules/request');\n",
    "var moment = require('../node_modules/moment');"
   ]
  },
  {
   "cell_type": "code",
   "execution_count": 4,
   "metadata": {},
   "outputs": [],
   "source": [
    "var agrum_lib = Object.create({});"
   ]
  },
  {
   "cell_type": "code",
   "execution_count": 8,
   "metadata": {},
   "outputs": [
    {
     "name": "stdout",
     "output_type": "stream",
     "text": [
      "**\n"
     ]
    }
   ],
   "source": [
    "agrum_lib.get_data = (url,configs,res_data,cb)=>{\n",
    "\tif(!configs.skip)\n",
    "\t\tconfigs.skip = 0\n",
    "\tif(!configs.limit)\n",
    "\t\tconfigs.limit = 100\n",
    "\tlet url_request = url+'&skip='+configs.skip;\n",
    "\tconsole.log(url_request)\n",
    "\trequest.get(url_request,(err,res,data)=>{\n",
    "\t\tdata = JSON.parse(data)\n",
    "\t\tres_data = res_data.concat(data);\n",
    "\t\tif(data.length == configs.limit){\n",
    "\t\t\tconfigs.skip += configs.limit\n",
    "\t\t\tagrum_lib.get_data(url,configs,res_data,cb);\n",
    "\t\t}\n",
    "\t\telse{\n",
    "\t\t\tcb(res_data);\n",
    "\t\t}\n",
    "\t});\n",
    "}\n",
    "console.log('**')"
   ]
  },
  {
   "cell_type": "code",
   "execution_count": 9,
   "metadata": {},
   "outputs": [
    {
     "name": "stdout",
     "output_type": "stream",
     "text": [
      "http://agrum.herokuapp.com/api/v1.0/events?populate=&Authorization=4b4e7ecf-a320-4fa1-ad14-40bfdbc9352a&limit=100&where={\"type\":\"operator\",\"id_device\":\"PS-C01\",\"timestamp\":{\">=\":\"2018-04-13T11:00:00.000Z\",\"<=\":\"2018-04-14T10:59:59.999Z\"}}&sort=timestamp ASC&skip=0\n",
      "36\n"
     ]
    }
   ],
   "source": [
    "HOST = 'http://localhost:1338'\n",
    "HOST = 'http://agrum.herokuapp.com'\n",
    "\n",
    "date = '2018-04-13'\n",
    "device = 'PS-C01'\n",
    "\n",
    "date_init = moment(date).startOf('day').add(6,'hour').toISOString()\n",
    "date_finish = moment(date).endOf('day').add(6,'hour').toISOString()\n",
    "\n",
    "query = '/api/v1.0/events?populate=&Authorization=4b4e7ecf-a320-4fa1-ad14-40bfdbc9352a&limit=100&where={\"type\":\"operator\",\"id_device\":\"'+device+'\",\"timestamp\":{\">=\":\"'+date_init+'\",\"<=\":\"'+date_finish+'\"}}&sort=timestamp ASC'\n",
    "\n",
    "url = HOST+query\n",
    "data_events = []\n",
    "agrum_lib.get_data(url,{},[],(data)=>{\n",
    "    console.log(data.length)\n",
    "    events = data\n",
    "})"
   ]
  },
  {
   "cell_type": "code",
   "execution_count": null,
   "metadata": {},
   "outputs": [],
   "source": []
  }
 ],
 "metadata": {
  "kernelspec": {
   "display_name": "NodeJS",
   "language": "javascript",
   "name": "nodejs"
  },
  "language_info": {
   "codemirror_mode": "javascript",
   "file_extension": ".js",
   "mimetype": "text/javascript",
   "name": "nodejs",
   "pygments_lexer": "javascript",
   "version": "0.10"
  }
 },
 "nbformat": 4,
 "nbformat_minor": 2
}
